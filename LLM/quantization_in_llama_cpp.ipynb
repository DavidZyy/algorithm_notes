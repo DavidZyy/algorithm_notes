{
 "cells": [
  {
   "cell_type": "code",
   "execution_count": 2,
   "metadata": {},
   "outputs": [],
   "source": [
    "import numpy as np"
   ]
  },
  {
   "cell_type": "markdown",
   "metadata": {},
   "source": [
    "if `use_min` flag not set, only scales is used:\n",
    "$$\n",
    "s = \\frac{|x|_{max}}{-2^{n-1}} \\\\\n",
    "$$\n",
    "the conversion is below:\n",
    "$$\n",
    "q = \\frac{x}{s} \\\\ \n",
    "dq = q \\cdot s\n",
    "$$"
   ]
  },
  {
   "cell_type": "markdown",
   "metadata": {},
   "source": [
    "if it is set, both scales and mins are used:\n",
    "$$\n",
    "s = \\frac{x_{max} - x_{min}}{2^n - 1} \\\\\n",
    "m = x_{min}\n",
    "$$\n",
    "the conversion is below:\n",
    "$$\n",
    "q = \\frac{x - x_{min}}{s} \\\\ \n",
    "dq = s \\cdot q + x_{min}\n",
    "$$"
   ]
  },
  {
   "cell_type": "code",
   "execution_count": 3,
   "metadata": {},
   "outputs": [],
   "source": [
    "class quantizer:\n",
    "    def __init__(self, n_bits: int = 8, bsz: int = 32, use_min: bool = False) -> None:\n",
    "        \"\"\"\n",
    "        Args:\n",
    "            n_bits (int): number of bits\n",
    "            bsz (int): block size\n",
    "        \"\"\"\n",
    "        self.n_bits = n_bits\n",
    "        self.q_range = 2**n_bits - 1\n",
    "        self.q_max = 2**(n_bits-1) - 1\n",
    "        self.q_min = -2**(n_bits-1)\n",
    "        self.bsz = bsz\n",
    "        self.use_min = use_min\n",
    "        self.nb = None # number of blocks\n",
    "        self.x = None\n",
    "        self.q = None\n",
    "        self.dq = None\n",
    "        self.scales = None\n",
    "        self.mins = None\n",
    "\n",
    "    def quantize_block(self, x: np.ndarray) -> tuple[np.ndarray, float, float]:\n",
    "        if not self.use_min:\n",
    "            x_abs = np.abs(x)\n",
    "            x_abs_max = np.max(x_abs)\n",
    "            scale = x_abs_max / self.q_min\n",
    "            q = np.clip(np.round(x / scale), self.q_min, self.q_max)\n",
    "            min = None\n",
    "        else:\n",
    "            scale = (np.max(x) - np.min(x)) / self.q_range\n",
    "            min = np.min(x)\n",
    "            q = np.clip(np.round((x - min) / scale), 0, self.q_range)\n",
    "        return q, scale, min\n",
    "\n",
    "    def dequantize_block(self, q: np.ndarray, scale: float, min: float) -> np.ndarray:\n",
    "        q = q.astype(np.float32)\n",
    "        if not self.use_min:\n",
    "            dq = q * scale # dequantize q\n",
    "        else:\n",
    "            dq = q * scale + min\n",
    "        return dq\n",
    "    \n",
    "    def quantize(self, x: np.ndarray) -> np.ndarray:\n",
    "        orig_shape = x.shape\n",
    "        self.x = x.reshape(-1, self.bsz) # (nb, bsz), nb: number of blocks, bsz: block size\n",
    "        self.q = np.zeros_like(self.x)\n",
    "        self.nb = self.x.shape[0]\n",
    "        self.scales = np.zeros(self.nb)\n",
    "        self.mins = np.zeros(self.nb)\n",
    "        # loop over all blocks, quantize each block, return quantized block and the scale of this block\n",
    "        for i in range(self.nb):\n",
    "            self.q[i], self.scales[i], self.mins[i] = self.quantize_block(self.x[i])\n",
    "        return self.q.reshape(orig_shape)\n",
    "\n",
    "    def dequantize(self, q: np.ndarray) -> np.ndarray:\n",
    "        orig_shape = q.shape\n",
    "        self.q = q.reshape(-1, self.bsz)\n",
    "        self.dq = np.zeros_like(self.q)\n",
    "        for i in range(self.dq.shape[0]):\n",
    "            self.dq[i] = self.dequantize_block(self.q[i], self.scales[i], self.mins[i])\n",
    "        return self.dq.reshape(orig_shape)\n",
    "\n",
    "    # calcualte mse\n",
    "    def calc_mse(self) -> float:\n",
    "        return np.mean((self.x - self.dq) ** 2)\n",
    "    # def calc_mse(self, x: np.ndarray, y: np.ndarray) -> float:\n",
    "    #     return np.mean((x - y) ** 2)"
   ]
  },
  {
   "cell_type": "code",
   "execution_count": 4,
   "metadata": {},
   "outputs": [],
   "source": [
    "x = 10 * np.random.randn(4096)"
   ]
  },
  {
   "cell_type": "code",
   "execution_count": 9,
   "metadata": {},
   "outputs": [
    {
     "name": "stdout",
     "output_type": "stream",
     "text": [
      "x:  [-8.34008678 -3.48670848 -9.30686668 ... -4.27291433 -9.67298438\n",
      "  0.22511705]\n",
      "q:  [ 2.  1.  3. ...  1.  3. -0.]\n",
      "dq:  [ -7.37396145  -3.68698072 -11.0609417  ...  -3.32198882  -9.96596622\n",
      "   0.        ]\n",
      "mse:  0.8757239981009514\n",
      "q.max: 7.0\n",
      "q.min: -8.0\n"
     ]
    }
   ],
   "source": [
    "q1 = quantizer(n_bits=4, bsz=32, use_min=False)\n",
    "q = q1.quantize(x)\n",
    "dq = q1.dequantize(q)\n",
    "print(\"x: \", x)\n",
    "print(\"q: \", q)\n",
    "print(\"dq: \", dq)\n",
    "print(\"mse: \", q1.calc_mse())\n",
    "print(\"q.max:\", q.max())\n",
    "print(\"q.min:\", q.min())"
   ]
  },
  {
   "cell_type": "markdown",
   "metadata": {},
   "source": [
    "Use no-min methods to quantize scales and mins."
   ]
  },
  {
   "cell_type": "code",
   "execution_count": 27,
   "metadata": {},
   "outputs": [],
   "source": [
    "class quantizer_2_order(quantizer):\n",
    "    \"\"\"\n",
    "    2-order quantizer, the scales and mins of blocks also be quantized \n",
    "    s_bits: number of bits for scales and mins quantization\n",
    "    \"\"\"\n",
    "    def __init__(self, s_bits: int = 4, n_bits: int = 8, bsz: int = 32, use_min: bool = False) -> None:\n",
    "        super().__init__(n_bits, bsz, use_min)\n",
    "        self.s_bits = s_bits\n",
    "        self.qs_max = 2 ** (s_bits - 1) - 1\n",
    "        self.qs_min = - 2 ** (s_bits - 1)\n",
    "        self.scale_scales = None\n",
    "        self.scale_mins = None\n",
    "        self.q_scales = None\n",
    "        self.q_mins = None\n",
    "\n",
    "    def quantize(self, x: np.ndarray) -> np.ndarray:\n",
    "        q = super().quantize(x)\n",
    "\n",
    "        # use no-min methods to quantize scales and mins\n",
    "        scales_abs = np.abs(self.scales)\n",
    "        scales_abs_max = np.max(scales_abs)\n",
    "        self.scale_scales = scales_abs_max / self.qs_min\n",
    "        self.q_scales = np.clip(np.round(self.scales / self.scale_scales), self.qs_min, self.qs_max)\n",
    "\n",
    "        mins_abs = np.abs(self.mins)\n",
    "        mins_abs_max = np.max(mins_abs)\n",
    "        self.scale_mins = mins_abs_max / self.qs_min\n",
    "        self.q_mins = np.clip(np.round(self.mins / self.scale_mins), self.qs_min, self.qs_max)\n",
    "        return q\n",
    "\n",
    "    def dequantize(self, q: np.ndarray) -> np.ndarray:\n",
    "        # use the dequantized scales and mins to overwrite the original scales and mins in the super class\n",
    "        self.scales = self.q_scales * self.scale_scales\n",
    "        self.mins = self.q_mins * self.scale_mins\n",
    "        dq = super().dequantize(q)\n",
    "        return dq"
   ]
  },
  {
   "cell_type": "code",
   "execution_count": 33,
   "metadata": {},
   "outputs": [
    {
     "name": "stdout",
     "output_type": "stream",
     "text": [
      "x:  [  2.70740678  -8.25383121 -12.58215199 ...   2.41243454 -10.60010584\n",
      "   3.9098263 ]\n",
      "q:  [9. 5. 4. ... 8. 3. 8.]\n",
      "dq:  [  2.31284523  -8.34332657 -11.00736904 ...   2.74177742 -11.15757561\n",
      "   2.74177742]\n",
      "mse:  0.7194974231267448\n",
      "q.max: 15.0\n",
      "q.min: 0.0\n"
     ]
    }
   ],
   "source": [
    "q1 = quantizer_2_order(s_bits=6, n_bits=4, bsz=32, use_min=True)\n",
    "q = q1.quantize(x)\n",
    "dq = q1.dequantize(q)\n",
    "print(\"x: \", x)\n",
    "print(\"q: \", q)\n",
    "print(\"dq: \", dq)\n",
    "print(\"mse: \", q1.calc_mse())\n",
    "print(\"q.max:\", q.max())\n",
    "print(\"q.min:\", q.min())"
   ]
  }
 ],
 "metadata": {
  "kernelspec": {
   "display_name": "llm",
   "language": "python",
   "name": "python3"
  },
  "language_info": {
   "codemirror_mode": {
    "name": "ipython",
    "version": 3
   },
   "file_extension": ".py",
   "mimetype": "text/x-python",
   "name": "python",
   "nbconvert_exporter": "python",
   "pygments_lexer": "ipython3",
   "version": "3.12.5"
  }
 },
 "nbformat": 4,
 "nbformat_minor": 2
}
