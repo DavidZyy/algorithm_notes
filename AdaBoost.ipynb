{
  "nbformat": 4,
  "nbformat_minor": 0,
  "metadata": {
    "colab": {
      "provenance": [],
      "authorship_tag": "ABX9TyPplxb5pRJN1xi5Df8+Pq7k",
      "include_colab_link": true
    },
    "kernelspec": {
      "name": "python3",
      "display_name": "Python 3"
    },
    "language_info": {
      "name": "python"
    }
  },
  "cells": [
    {
      "cell_type": "markdown",
      "metadata": {
        "id": "view-in-github",
        "colab_type": "text"
      },
      "source": [
        "<a href=\"https://colab.research.google.com/github/DavidZyy/dive-into-ml/blob/main/AdaBoost.ipynb\" target=\"_parent\"><img src=\"https://colab.research.google.com/assets/colab-badge.svg\" alt=\"Open In Colab\"/></a>"
      ]
    },
    {
      "cell_type": "markdown",
      "source": [
        "# AdaBoost"
      ],
      "metadata": {
        "id": "NHcG7gq9GiTC"
      }
    },
    {
      "cell_type": "code",
      "execution_count": 104,
      "metadata": {
        "id": "_GAlDgGRGUHJ"
      },
      "outputs": [],
      "source": [
        "import numpy as np\n",
        "import pandas as pd\n",
        "import matplotlib.pyplot as plt"
      ]
    },
    {
      "cell_type": "markdown",
      "source": [
        "输入：训练数据集 $T = \\{ (x_1, y_1), (x_2, y_2), \\ldots, (x_N, y_N) \\}$，其中$x_i \\in \\mathcal{X} \\subseteq \\mathbb{R}^n$，$y_i \\in \\mathcal{Y} = \\{ -1, +1 \\}$；弱学习算法； \\\\\n",
        "输出：最终分类器 $G(x)$。"
      ],
      "metadata": {
        "id": "_jmzBSynPpLw"
      }
    },
    {
      "cell_type": "markdown",
      "source": [
        "## 第一轮"
      ],
      "metadata": {
        "id": "HPRDoO0jiWSh"
      }
    },
    {
      "cell_type": "markdown",
      "source": [
        "初始化训练数据的权值分布\n",
        "$$ D_1 = (w_{11}, \\cdots, w_{1i}, \\cdots, w_{1N}) , \\quad w_{1i} = \\frac{1}{N} , \\quad i = 1, 2, \\cdots, N $$\n"
      ],
      "metadata": {
        "id": "WRfoS9nmQPli"
      }
    },
    {
      "cell_type": "code",
      "source": [
        "x = np.array([0, 1, 2, 3, 4, 5, 6, 7, 8, 9])\n",
        "y = np.array([1, 1, 1, -1, -1, -1, 1, 1, 1, -1])\n",
        "#概率为:\n",
        "D_1 = np.ones(x.shape) / len(x)"
      ],
      "metadata": {
        "id": "EDlEHqGXGpPm"
      },
      "execution_count": 105,
      "outputs": []
    },
    {
      "cell_type": "markdown",
      "source": [
        "\n",
        "使用具有权值分布 $D_1$ 的训练数据集学习，得到基本分类器\n",
        "$$\n",
        "G_1(x) : \\mathcal{X} \\rightarrow \\{-1, +1\\}\n",
        "$$"
      ],
      "metadata": {
        "id": "tKnE8jnIRJ5d"
      }
    },
    {
      "cell_type": "markdown",
      "source": [
        "学习一个分类器$G_1$，使得误差最小\n",
        "$e_1=P(G_1(x^{(i)}) \\not= y^{(i)}) =\\sum_{i=1}^{N}w_{1i}I(G_1(x_i)\\neq y_i)$，假设这个分类器的表示形式为：\n",
        "$$\n",
        "G_1(x) =\n",
        "\\begin{cases}\n",
        "1,& \\quad x \\leq b \\\\\\\n",
        "-1, & \\quad x > b\n",
        "\\end{cases}\n",
        "$$\n",
        "我们通过计算来找到这个$b$(boundary)。先定义$G$和$G_r$："
      ],
      "metadata": {
        "id": "wRpLiMg2LZVf"
      }
    },
    {
      "cell_type": "code",
      "source": [
        "def G(b, x):\n",
        "    if isinstance(x, np.ndarray):\n",
        "        return np.where(x <= b, 1, -1)\n",
        "    else:\n",
        "        return 1 if x <= b else -1\n",
        "\n",
        "# return the reverse value of G\n",
        "def G_r(b, x):\n",
        "    if isinstance(x, np.ndarray):\n",
        "        return np.where(x <= b, -1, 1)\n",
        "    else:\n",
        "        return -1 if x <= b else 1\n",
        "\n",
        "def sign_function(x):\n",
        "    if isinstance(x, np.ndarray):\n",
        "        return np.sign(x)\n",
        "    else:\n",
        "        return 1 if x > 0 else -1 if x < 0 else 0"
      ],
      "metadata": {
        "id": "yQSy3PgqXtZR"
      },
      "execution_count": 106,
      "outputs": []
    },
    {
      "cell_type": "markdown",
      "source": [
        "再定义一些list，用来存放每次运算的结果，因为下标是从1开始的，所以先放进去一个数。"
      ],
      "metadata": {
        "id": "YDau2Bm8dTrw"
      }
    },
    {
      "cell_type": "code",
      "source": [
        "err_list = []\n",
        "b_list = []\n",
        "type_list = [] # the type function, 0 means G, 1 means G_r\n",
        "err_list.append(0)\n",
        "b_list.append(0)\n",
        "type_list.append(-1)"
      ],
      "metadata": {
        "id": "DqxIdXIEdfIr"
      },
      "execution_count": 107,
      "outputs": []
    },
    {
      "cell_type": "code",
      "source": [
        "min_err = np.inf\n",
        "min_b = -1\n",
        "min_type = -1\n",
        "# suppose b is the value in x, traverse b\n",
        "for b in range(len(x)):\n",
        "  err = 0\n",
        "  for i in range(len(x)):\n",
        "    if G(b, x[i]) != y[i]:\n",
        "      err += D_1[i]\n",
        "  if err < min_err:\n",
        "    min_err = err\n",
        "    min_b = b\n",
        "    min_type = 0\n",
        "  # compute the reverse error\n",
        "  err = 0\n",
        "  for i in range(len(x)):\n",
        "    if G_r(b, x[i]) != y[i]:\n",
        "      err += D_1[i]\n",
        "  if err < min_err:\n",
        "    min_err = err\n",
        "    min_b = b\n",
        "    min_type = 1\n",
        "\n",
        "print(min_err, min_b, min_type)\n",
        "\n",
        "# put result in list\n",
        "err_list.append(min_err)\n",
        "b_list.append(min_b)\n",
        "type_list.append(min_type)"
      ],
      "metadata": {
        "colab": {
          "base_uri": "https://localhost:8080/"
        },
        "id": "ZbImP2flTAGQ",
        "outputId": "c015bfcc-9532-4dc0-e975-8831fdcbb641"
      },
      "execution_count": 108,
      "outputs": [
        {
          "output_type": "stream",
          "name": "stdout",
          "text": [
            "0.30000000000000004 2 0\n"
          ]
        }
      ]
    },
    {
      "cell_type": "markdown",
      "source": [
        "得到的结果为\n",
        "$$\n",
        "G_1(x) =\n",
        "\\begin{cases}\n",
        "1,& \\quad x \\leq 2 \\\\\\\n",
        "-1, & \\quad x > 2\n",
        "\\end{cases}\n",
        "$$\n",
        "误差$e_1$为0.3。\n"
      ],
      "metadata": {
        "id": "nFTmMvzuZJin"
      }
    },
    {
      "cell_type": "markdown",
      "source": [
        "计算$G_1(x)$的系数：\n",
        "\\begin{equation}\n",
        "\\alpha_1 = \\frac{1}{2}\\log{\\frac{1-e_1}{e_1}}\n",
        "\\end{equation}"
      ],
      "metadata": {
        "id": "xl1VIxjQaZoR"
      }
    },
    {
      "cell_type": "code",
      "source": [
        "alpha_list = []\n",
        "alpha_list.append(0)\n",
        "# calculate alpha\n",
        "alpha1 = 0.5 * np.log((1 - err_list[1]) / err_list[1])\n",
        "alpha_list.append(alpha1)\n",
        "print(alpha1)"
      ],
      "metadata": {
        "colab": {
          "base_uri": "https://localhost:8080/"
        },
        "id": "oqXMM2MtZZvv",
        "outputId": "f5024c8b-bc9f-4df8-9789-9ea8f022da2b"
      },
      "execution_count": 109,
      "outputs": [
        {
          "output_type": "stream",
          "name": "stdout",
          "text": [
            "0.4236489301936017\n"
          ]
        }
      ]
    },
    {
      "cell_type": "markdown",
      "source": [
        "得到\n",
        "$$\n",
        "f_1(x) = \\alpha_1G_1(x)\n",
        "$$"
      ],
      "metadata": {
        "id": "UzCeaErfjeu8"
      }
    },
    {
      "cell_type": "markdown",
      "source": [
        "分类器为$\\textbf{sign}[f_1(x)]$，判断误分类点数："
      ],
      "metadata": {
        "id": "zW3GSxKgM2ql"
      }
    },
    {
      "cell_type": "code",
      "source": [
        "err_count = 0\n",
        "for i in range(len(x)):\n",
        "  if sign_function(alpha_list[1] * G(b_list[1], x[i])) != y[i]:\n",
        "    err_count += 1\n",
        "print(err_count)"
      ],
      "metadata": {
        "colab": {
          "base_uri": "https://localhost:8080/"
        },
        "id": "ck3W-PI-NEW9",
        "outputId": "11b423be-cacd-414a-a610-7bbf45bbb74a"
      },
      "execution_count": 110,
      "outputs": [
        {
          "output_type": "stream",
          "name": "stdout",
          "text": [
            "3\n"
          ]
        }
      ]
    },
    {
      "cell_type": "markdown",
      "source": [
        "## 第二轮"
      ],
      "metadata": {
        "id": "EKYeFyWLgYBN"
      }
    },
    {
      "cell_type": "markdown",
      "source": [
        "Update the weight distribution of the training data set\n",
        "\\begin{equation}\n",
        "D_{m+1} = (w_{m+1,1}, \\cdots, w_{m+1,i}, \\cdots, w_{m+1,N})\n",
        "\\end{equation}\n",
        "\n",
        "\\begin{equation}\n",
        "w_{m+1,i} = \\frac{w_{mi}}{Z_m}exp(-\\alpha_my_iG_m(x_i)), \\quad i = 1,2,\\cdots,N\n",
        "\\end{equation}\n",
        "\n",
        "where $Z_m$ is the normalization factor\n",
        "\\begin{equation}\n",
        "Z_m = \\sum_{i=1}^{N}w_{mi}exp(-\\alpha_my_iG_m(x_i))\n",
        "\\end{equation}\n",
        "\n",
        "It makes $D_{m+1}$ become a probability distribution.\n",
        "这里由前一轮的结果来计算$D_2$。"
      ],
      "metadata": {
        "id": "6Xt5RABvR2li"
      }
    },
    {
      "cell_type": "code",
      "source": [
        "D_2 = D_1 * np.exp(-alpha_list[1] * y * G(b_list[1], x))\n",
        "D_2 = D_2 / D_2.sum()\n",
        "print(D_2)"
      ],
      "metadata": {
        "colab": {
          "base_uri": "https://localhost:8080/"
        },
        "id": "jxuX6ZEpape8",
        "outputId": "ef73f2f6-1c92-4cb6-87e4-3c958b49e0be"
      },
      "execution_count": 111,
      "outputs": [
        {
          "output_type": "stream",
          "name": "stdout",
          "text": [
            "[0.07142857 0.07142857 0.07142857 0.07142857 0.07142857 0.07142857\n",
            " 0.16666667 0.16666667 0.16666667 0.07142857]\n"
          ]
        }
      ]
    },
    {
      "cell_type": "code",
      "source": [
        "min_err = np.inf\n",
        "min_b = -1\n",
        "min_type = -1\n",
        "# suppose b is the value in x, traverse b\n",
        "for b in range(len(x)):\n",
        "  err = 0\n",
        "  for i in range(len(x)):\n",
        "    if G(b, x[i]) != y[i]:\n",
        "      err += D_2[i]\n",
        "  if err < min_err:\n",
        "    min_err = err\n",
        "    min_b = b\n",
        "    min_type = 0\n",
        "  # compute the reverse error\n",
        "  err = 0\n",
        "  for i in range(len(x)):\n",
        "    if G_r(b, x[i]) != y[i]:\n",
        "      err += D_2[i]\n",
        "  if err < min_err:\n",
        "    min_err = err\n",
        "    min_b = b\n",
        "    min_type = 1\n",
        "\n",
        "print(min_err, min_b, min_type)\n",
        "\n",
        "# put result in list\n",
        "err_list.append(min_err)\n",
        "b_list.append(min_b)\n",
        "type_list.append(min_type)"
      ],
      "metadata": {
        "colab": {
          "base_uri": "https://localhost:8080/"
        },
        "id": "r4Cc8XagofOX",
        "outputId": "119bce18-8ad7-4348-ac8e-fd0d99115907"
      },
      "execution_count": 112,
      "outputs": [
        {
          "output_type": "stream",
          "name": "stdout",
          "text": [
            "0.21428571428571427 8 0\n"
          ]
        }
      ]
    },
    {
      "cell_type": "code",
      "source": [
        "alpha2 = 0.5 * np.log((1 - err_list[2]) / err_list[2])\n",
        "alpha_list.append(alpha2)\n",
        "print(alpha2)"
      ],
      "metadata": {
        "colab": {
          "base_uri": "https://localhost:8080/"
        },
        "id": "cgVIXHKZrno7",
        "outputId": "fd42b61b-0ba1-4b4b-ee3b-0e19f00b4561"
      },
      "execution_count": 113,
      "outputs": [
        {
          "output_type": "stream",
          "name": "stdout",
          "text": [
            "0.6496414920651304\n"
          ]
        }
      ]
    },
    {
      "cell_type": "markdown",
      "source": [
        "得到的结果为\n",
        "$$\n",
        "G_2(x) =\n",
        "\\begin{cases}\n",
        "1,& \\quad x \\leq 8 \\\\\\\n",
        "-1, & \\quad x > 8\n",
        "\\end{cases}\n",
        "$$\n",
        "误差$e_2$为0.2143。\n",
        "$$\n",
        "f_2(x) = \\alpha_1G_1(x) + \\alpha_2G_2(x)\n",
        "$$\n",
        "分类器为$\\textbf{sign}[f_2(x)]$，判断误分类点数："
      ],
      "metadata": {
        "id": "wYj0lwaApm9J"
      }
    },
    {
      "cell_type": "code",
      "source": [
        "err_count = 0\n",
        "for i in range(len(x)):\n",
        "  if sign_function(alpha_list[2] * G(b_list[2], x[i]) + alpha_list[1] * G(b_list[1], x[i])) != y[i]:\n",
        "    err_count += 1\n",
        "print(err_count)"
      ],
      "metadata": {
        "colab": {
          "base_uri": "https://localhost:8080/"
        },
        "id": "gFtJjn8mNntK",
        "outputId": "10c113fd-ccb7-4c81-d7c4-3951a6c31e96"
      },
      "execution_count": 114,
      "outputs": [
        {
          "output_type": "stream",
          "name": "stdout",
          "text": [
            "3\n"
          ]
        }
      ]
    },
    {
      "cell_type": "markdown",
      "source": [
        "## 第三轮"
      ],
      "metadata": {
        "id": "yp_5H2x9qL0s"
      }
    },
    {
      "cell_type": "code",
      "source": [
        "D_3 = D_2 * np.exp(-alpha_list[2] * y * G(b_list[2], x))\n",
        "D_3 = D_3 / D_3.sum()\n",
        "print(D_3)"
      ],
      "metadata": {
        "colab": {
          "base_uri": "https://localhost:8080/"
        },
        "id": "ygIFHEUwrSw2",
        "outputId": "a6d330df-6963-4eb8-feb4-ad02d6a50c5a"
      },
      "execution_count": 115,
      "outputs": [
        {
          "output_type": "stream",
          "name": "stdout",
          "text": [
            "[0.04545455 0.04545455 0.04545455 0.16666667 0.16666667 0.16666667\n",
            " 0.10606061 0.10606061 0.10606061 0.04545455]\n"
          ]
        }
      ]
    },
    {
      "cell_type": "code",
      "source": [
        "min_err = np.inf\n",
        "min_b = -1\n",
        "min_type = -1\n",
        "# suppose b is the value in x, traverse b\n",
        "for b in range(len(x)):\n",
        "  err = 0\n",
        "  for i in range(len(x)):\n",
        "    if G(b, x[i]) != y[i]:\n",
        "      err += D_3[i]\n",
        "  if err < min_err:\n",
        "    min_err = err\n",
        "    min_b = b\n",
        "    min_type = 0\n",
        "  # compute the reverse error\n",
        "  err = 0\n",
        "  for i in range(len(x)):\n",
        "    if G_r(b, x[i]) != y[i]:\n",
        "      err += D_3[i]\n",
        "  if err < min_err:\n",
        "    min_err = err\n",
        "    min_b = b\n",
        "    min_type = 1\n",
        "\n",
        "\n",
        "print(min_err, min_b, min_type)\n",
        "\n",
        "# put result in list\n",
        "err_list.append(min_err)\n",
        "b_list.append(min_b)\n",
        "type_list.append(min_type)"
      ],
      "metadata": {
        "colab": {
          "base_uri": "https://localhost:8080/"
        },
        "id": "6cvsUZx7r_fI",
        "outputId": "76912328-6228-412b-c4c9-e7d02565a877"
      },
      "execution_count": 116,
      "outputs": [
        {
          "output_type": "stream",
          "name": "stdout",
          "text": [
            "0.18181818181818185 5 1\n"
          ]
        }
      ]
    },
    {
      "cell_type": "markdown",
      "source": [
        "得到分类函数的结果为：\n",
        "$$\n",
        "G_3(x) =\n",
        "\\begin{cases}\n",
        "-1,& \\quad x \\leq 5 \\\\\\\n",
        "1, & \\quad x > 5\n",
        "\\end{cases}\n",
        "$$\n",
        "注意小于为负，大于为正。"
      ],
      "metadata": {
        "id": "pfROVijSP_Wr"
      }
    },
    {
      "cell_type": "code",
      "source": [
        "alpha3 = 0.5 * np.log((1 - err_list[3]) / err_list[3])\n",
        "alpha_list.append(alpha3)\n",
        "print(alpha3)"
      ],
      "metadata": {
        "colab": {
          "base_uri": "https://localhost:8080/"
        },
        "id": "VRU_PGOoOTP_",
        "outputId": "bde4516d-8051-4314-a6f3-04a13a9ba7e3"
      },
      "execution_count": 117,
      "outputs": [
        {
          "output_type": "stream",
          "name": "stdout",
          "text": [
            "0.752038698388137\n"
          ]
        }
      ]
    },
    {
      "cell_type": "markdown",
      "source": [
        "可以得到$D_4$为"
      ],
      "metadata": {
        "id": "3D7EMi4Aiv0z"
      }
    },
    {
      "cell_type": "code",
      "source": [
        "D_4 = D_3 * np.exp(-alpha_list[3] * y * G_r(b_list[3], x))\n",
        "D_4 = D_4 / D_4.sum()\n",
        "print(D_4)"
      ],
      "metadata": {
        "colab": {
          "base_uri": "https://localhost:8080/"
        },
        "id": "es5_0waBN-Y8",
        "outputId": "f30b678b-3ad5-429c-fcb7-60ed271d1808"
      },
      "execution_count": 118,
      "outputs": [
        {
          "output_type": "stream",
          "name": "stdout",
          "text": [
            "[0.125      0.125      0.125      0.10185185 0.10185185 0.10185185\n",
            " 0.06481481 0.06481481 0.06481481 0.125     ]\n"
          ]
        }
      ]
    },
    {
      "cell_type": "markdown",
      "source": [
        "得到$f(3) = \\alpha_1 G_1(x) + \\alpha_2 G_2(x) + \\alpha_3 G_3$，\n",
        "判别函数为\n",
        "$$\n",
        "\\textbf{sign}[f_3(x)]\n",
        "$$\n",
        "计算误差点："
      ],
      "metadata": {
        "id": "tPGXwaAQO4qb"
      }
    },
    {
      "cell_type": "code",
      "source": [
        "err_count = 0\n",
        "for i in range(len(x)):\n",
        "  if sign_function(alpha_list[3] * G_r(b_list[3], x[i]) + alpha_list[2] * G(b_list[2], x[i]) + alpha_list[1] * G(b_list[1], x[i])) != y[i]:\n",
        "    err_count += 1\n",
        "print(err_count)"
      ],
      "metadata": {
        "colab": {
          "base_uri": "https://localhost:8080/"
        },
        "id": "BoinQqBAPaNH",
        "outputId": "61097b5e-3669-44b8-c326-96297160bd3e"
      },
      "execution_count": 119,
      "outputs": [
        {
          "output_type": "stream",
          "name": "stdout",
          "text": [
            "0\n"
          ]
        }
      ]
    },
    {
      "cell_type": "markdown",
      "source": [
        "误差点为0，分类结束。"
      ],
      "metadata": {
        "id": "rbx6WxcgPyvU"
      }
    }
  ]
}